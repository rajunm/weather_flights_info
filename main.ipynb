{
 "cells": [
  {
   "cell_type": "code",
   "execution_count": null,
   "id": "09c582d9",
   "metadata": {},
   "outputs": [],
   "source": [
    "import os\n",
    "import pandas as pd\n",
    "from dotenv import load_dotenv\n",
    "from datetime import datetime\n",
    "from data_utils import city_data_utils, weather_utils, airport_data_utils"
   ]
  },
  {
   "cell_type": "code",
   "execution_count": null,
   "metadata": {},
   "outputs": [],
   "source": [
    "load_dotenv()\n",
    "\n",
    "# Access your SQL password\n",
    "SQL_PW = os.getenv(\"SQL_PW\")"
   ]
  },
  {
   "cell_type": "markdown",
   "id": "b4b32523",
   "metadata": {},
   "source": [
    "#### Basic Details of Cities"
   ]
  },
  {
   "cell_type": "code",
   "execution_count": null,
   "id": "4384c6a8",
   "metadata": {},
   "outputs": [],
   "source": [
    "cities = ['Berlin', 'Hamburg', 'Munich']\n",
    "cities_geodata_df = city_data_utils.scrape_city_data(cities)\n",
    "cities_geodata_df"
   ]
  },
  {
   "cell_type": "code",
   "execution_count": null,
   "id": "cbf4e9fa",
   "metadata": {},
   "outputs": [],
   "source": [
    "# Create connection string to connect to MySQL database\n",
    "def create_connection_string():\n",
    "  schema = \"gans_weather\"\n",
    "  host = \"127.0.0.1\"\n",
    "  user = \"root\"\n",
    "  password = SQL_PW\n",
    "  port = 3306\n",
    "  return f'mysql+pymysql://{user}:{password}@{host}:{port}/{schema}'"
   ]
  },
  {
   "cell_type": "markdown",
   "id": "83a7793b",
   "metadata": {},
   "source": [
    "Send `cities_geodata_df` to the `cities` table in the Database"
   ]
  },
  {
   "cell_type": "code",
   "execution_count": null,
   "id": "a5592654",
   "metadata": {},
   "outputs": [],
   "source": [
    "cities_geodata_df.to_sql('cities',\n",
    "                    if_exists='append',\n",
    "                    con=create_connection_string(),\n",
    "                    index=False)"
   ]
  },
  {
   "cell_type": "markdown",
   "id": "9d714da4",
   "metadata": {},
   "source": [
    "Create and send population data using the `cities` table"
   ]
  },
  {
   "cell_type": "code",
   "execution_count": null,
   "id": "c312addf",
   "metadata": {},
   "outputs": [],
   "source": [
    "def fetch_cities_data(connection_string):\n",
    "  return pd.read_sql(\"cities\", con=connection_string)"
   ]
  },
  {
   "cell_type": "code",
   "execution_count": null,
   "id": "d4f07e7d",
   "metadata": {},
   "outputs": [],
   "source": [
    "cities_population_df = city_data_utils.scrape_population_data(fetch_cities_data(create_connection_string()))\n",
    "cities_population_df"
   ]
  },
  {
   "cell_type": "code",
   "execution_count": null,
   "metadata": {},
   "outputs": [],
   "source": [
    "cities_population_df.to_sql('population',\n",
    "                    if_exists='append',\n",
    "                    con=create_connection_string(),\n",
    "                    index=False)"
   ]
  },
  {
   "cell_type": "markdown",
   "id": "54d4cd31",
   "metadata": {},
   "source": [
    "#### Get Weather Data of the Cities"
   ]
  },
  {
   "cell_type": "code",
   "execution_count": null,
   "id": "428ceb2a",
   "metadata": {},
   "outputs": [],
   "source": [
    "\n",
    "\n",
    "def store_weather_data(weather_df, connection_string):\n",
    "  weather_df.to_sql('weather',\n",
    "                    if_exists='append',\n",
    "                    con=connection_string,\n",
    "                    index=False)\n",
    "\n",
    "  \n",
    "def retrieve_and_send_data():\n",
    "  connection_string = create_connection_string()\n",
    "  cities_df = fetch_cities_data(connection_string)\n",
    "  weather_df = weather_utils.fetch_weather_data(cities_df)\n",
    "  store_weather_data(weather_df, connection_string)\n",
    "  return \"Data has been updated\""
   ]
  },
  {
   "cell_type": "markdown",
   "id": "1f9a3f24",
   "metadata": {},
   "source": [
    "Send weather data to the database on MySQL"
   ]
  },
  {
   "cell_type": "code",
   "execution_count": null,
   "id": "41c7be83",
   "metadata": {},
   "outputs": [],
   "source": [
    "retrieve_and_send_data()"
   ]
  },
  {
   "cell_type": "markdown",
   "id": "1ee28699",
   "metadata": {},
   "source": [
    "#### Airports Data"
   ]
  },
  {
   "cell_type": "code",
   "execution_count": null,
   "id": "3194d926",
   "metadata": {},
   "outputs": [],
   "source": [
    "cities_df = fetch_cities_data(create_connection_string())\n",
    "cities_df"
   ]
  },
  {
   "cell_type": "code",
   "execution_count": null,
   "metadata": {},
   "outputs": [],
   "source": [
    "airports_df = airport_data_utils.get_airports(cities_df)\n",
    "airports_df"
   ]
  },
  {
   "cell_type": "code",
   "execution_count": null,
   "id": "0a29e113",
   "metadata": {},
   "outputs": [],
   "source": [
    "airports_df_cl = airports_df.loc[airports_df['iata'] != 'TXL', ['city_id', 'icao', 'name']]\n",
    "airports_df_cl = airports_df_cl.rename(columns= {'icao':'icao_code', 'name': 'airport_name'})\n",
    "airports_df_cl"
   ]
  },
  {
   "cell_type": "markdown",
   "id": "3d330d83",
   "metadata": {},
   "source": [
    "Send airports data to the database on MySQL"
   ]
  },
  {
   "cell_type": "code",
   "execution_count": null,
   "id": "6ccf8ba6",
   "metadata": {},
   "outputs": [],
   "source": [
    "airports_df_cl.to_sql('cities_airports',\n",
    "                      if_exists='append',\n",
    "                    con=create_connection_string(),\n",
    "                    index=False)"
   ]
  },
  {
   "cell_type": "markdown",
   "id": "6cd1b5db",
   "metadata": {},
   "source": [
    "#### Flights Data"
   ]
  },
  {
   "cell_type": "code",
   "execution_count": null,
   "metadata": {},
   "outputs": [],
   "source": [
    "flights_df =  airport_data_utils.fetch_airports_data(airports_df_cl)\n",
    "flights_df"
   ]
  },
  {
   "cell_type": "markdown",
   "id": "1bd997cb",
   "metadata": {},
   "source": [
    "Send flights data to the database on MySQL"
   ]
  },
  {
   "cell_type": "code",
   "execution_count": null,
   "id": "e414970c",
   "metadata": {},
   "outputs": [],
   "source": [
    "flights_df.to_sql('flights',\n",
    "                    if_exists='append',\n",
    "                    con=create_connection_string(),\n",
    "                    index=False)"
   ]
  },
  {
   "cell_type": "code",
   "execution_count": null,
   "id": "8876de5c",
   "metadata": {},
   "outputs": [],
   "source": []
  }
 ],
 "metadata": {
  "kernelspec": {
   "display_name": "gans_proj_env",
   "language": "python",
   "name": "python3"
  },
  "language_info": {
   "codemirror_mode": {
    "name": "ipython",
    "version": 3
   },
   "file_extension": ".py",
   "mimetype": "text/x-python",
   "name": "python",
   "nbconvert_exporter": "python",
   "pygments_lexer": "ipython3",
   "version": "3.13.7"
  }
 },
 "nbformat": 4,
 "nbformat_minor": 5
}
